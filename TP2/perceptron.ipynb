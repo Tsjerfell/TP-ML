{
 "cells": [
  {
   "cell_type": "markdown",
   "metadata": {},
   "source": [
    "## Objectives of the practical work\n",
    "\n",
    "The objective is to get hands on experience on the fundamental elements of neural networks:\n",
    " \n",
    " - perceptron architecture (linear regression)\n",
    " - loss function\n",
    " - empirical loss\n",
    " - gradient descent\n",
    "\n",
    "For this we will implement from scratch the data-structure and algorithms to train a perceptron. Note that slides related to the perceptron and neural networks in general are available on [moodle](https://moodle.insa-toulouse.fr/course/view.php?id=1822#section-2).\n",
    "\n",
    "## Dataset\n",
    "\n",
    "The objective of the regression is the prediction of the hydrodynamic performance of sailing yachts from dimensions and velocity.\n",
    "The **inputs** are linked to dimension and hydrodynamics characteristics:\n",
    "1. Longitudinal position of the center of buoyancy\n",
    "(*flottabilité*), adimensional.\n",
    "2. Prismatic coefficient, adimensional.\n",
    "3. Length-displacement ratio, adimensional.\n",
    "4. Beam -draught ratio ((*tiran d’eau*), adimensional.\n",
    "5. Length-beam ratio, adimensional.\n",
    "6. Froude number, adimensional\n",
    "\n",
    "**Target value/predicted value (Output)** = Residuary resistance per unit weight of\n",
    "displacement, adimensional"
   ]
  },
  {
   "cell_type": "code",
   "execution_count": 12,
   "metadata": {},
   "outputs": [],
   "source": [
    "# Import some useful libraries and functions\n",
    "\n",
    "import numpy as np\n",
    "import pandas\n",
    "\n",
    "def print_stats(dataset):\n",
    "    \"\"\"Print statistics of a dataset\"\"\"\n",
    "    print(pandas.DataFrame(dataset).describe())\n"
   ]
  },
  {
   "cell_type": "code",
   "execution_count": 13,
   "metadata": {},
   "outputs": [
    {
     "name": "stdout",
     "output_type": "stream",
     "text": [
      "Dataset available\n"
     ]
    }
   ],
   "source": [
    "# Download the data set and place in the current folder (works on linux only)\n",
    "filename = 'yacht_hydrodynamics.data'\n",
    "\n",
    "import os.path\n",
    "import requests\n",
    "\n",
    "if not os.path.exists(filename):\n",
    "    print(\"Downloading dataset...\")\n",
    "    r = requests.get('https://arbimo.github.io/tp-supervised-learning/tp2/' + filename)\n",
    "    open(filename , 'wb').write(r.content)\n",
    "    \n",
    "print('Dataset available')"
   ]
  },
  {
   "cell_type": "markdown",
   "metadata": {},
   "source": [
    "### Explore the dataset\n",
    "\n",
    "- how many examples are there in the dataset?\n",
    "\n",
    "    308\n",
    "- how many features for each example?\n",
    "\n",
    "    6\n",
    "- what is the ground truth of the 10th example\n",
    "\n",
    "    1.83"
   ]
  },
  {
   "cell_type": "code",
   "execution_count": 14,
   "metadata": {},
   "outputs": [
    {
     "name": "stdout",
     "output_type": "stream",
     "text": [
      "f([-5.    0.6   4.78  4.24  3.15  0.35]) = 8.62\n",
      "f([-5.     0.565  4.77   3.99   3.15   0.15 ]) = 0.18\n",
      "f([-2.3    0.565  4.78   5.35   2.76   0.15 ]) = 0.29\n",
      "f([-5.     0.6    4.78   4.24   3.15   0.325]) = 6.2\n",
      "f([0.    0.53  4.78  3.75  3.15  0.175]) = 0.59\n"
     ]
    }
   ],
   "source": [
    "# loads the dataset and slip between inputs (X) and ground truth (Y)\n",
    "dataset = np.genfromtxt(\"yacht_hydrodynamics.data\", delimiter='')\n",
    "X = dataset[:, :-1] # examples features\n",
    "Y = dataset[:, -1]  # ground truth\n",
    "\n",
    "# Print the first 5 examples\n",
    "for i in range(0,5):\n",
    "    print(f\"f({X[i]}) = {Y[i]}\")"
   ]
  },
  {
   "cell_type": "markdown",
   "metadata": {},
   "source": [
    "The following command adds a column to the inputs.\n",
    "\n",
    "- what is in the value added this column?\n",
    "\n",
    " There is only 1 in the column added\n",
    "- why are we doing this?\n",
    "\n",
    "    It is necessary to calculate the perceptron"
   ]
  },
  {
   "cell_type": "code",
   "execution_count": 15,
   "metadata": {},
   "outputs": [
    {
     "name": "stdout",
     "output_type": "stream",
     "text": [
      "           0           1           2           3           4           5  \\\n",
      "count  308.0  308.000000  308.000000  308.000000  308.000000  308.000000   \n",
      "mean     1.0   -2.381818    0.564136    4.788636    3.936818    3.206818   \n",
      "std      0.0    1.513219    0.023290    0.253057    0.548193    0.247998   \n",
      "min      1.0   -5.000000    0.530000    4.340000    2.810000    2.730000   \n",
      "25%      1.0   -2.400000    0.546000    4.770000    3.750000    3.150000   \n",
      "50%      1.0   -2.300000    0.565000    4.780000    3.955000    3.150000   \n",
      "75%      1.0   -2.300000    0.574000    5.100000    4.170000    3.510000   \n",
      "max      1.0    0.000000    0.600000    5.140000    5.350000    3.640000   \n",
      "\n",
      "                6  \n",
      "count  308.000000  \n",
      "mean     0.287500  \n",
      "std      0.100942  \n",
      "min      0.125000  \n",
      "25%      0.200000  \n",
      "50%      0.287500  \n",
      "75%      0.375000  \n",
      "max      0.450000  \n"
     ]
    }
   ],
   "source": [
    "X = np.insert(X, 0, np.ones((len(X))), axis= 1)\n",
    "print_stats(X)\n"
   ]
  },
  {
   "cell_type": "markdown",
   "metadata": {},
   "source": [
    "## Creating the perceptron\n",
    "\n",
    "![Perceptron for regression](https://arbimo.github.io/tp-supervised-learning/tp2/perceptron-regression.png)\n",
    "\n",
    "We now want to define a perceptron, that is, a function of the form: \n",
    "\n",
    "$h_w(x) = w_0 + w_1 \\times x_1 + \\dots + w_n \\times x_n$\n",
    "\n",
    "- Complete the code snippet below to:\n",
    "  - create the vector of weight `w`\n",
    "  - implement the `h` function that evaluate an example based on the vector of weights\n",
    "  - check if this works on a few examples"
   ]
  },
  {
   "cell_type": "code",
   "execution_count": 46,
   "metadata": {},
   "outputs": [
    {
     "name": "stdout",
     "output_type": "stream",
     "text": [
      "Estimated value for first example 0.0 \n",
      "Ground truth for first example 8.62 "
     ]
    }
   ],
   "source": [
    "w = [0 for i in range(7)]\n",
    "\n",
    "def h(w, x):\n",
    "    heuristique = 0\n",
    "    for i in range(len(x)):\n",
    "        heuristique += w[i]*x[i]\n",
    "    return (heuristique)\n",
    "\n",
    "print(\"Estimated value for first example\",h(w,X[0]),end = \" \")\n",
    "print()\n",
    "print(\"Ground truth for first example\",Y[0],end = \" \")\n",
    "\n",
    "# print the ground truth and the evaluation of h_w on the first example"
   ]
  },
  {
   "cell_type": "markdown",
   "metadata": {},
   "source": [
    "## Loss function\n",
    "\n",
    "Complete the definiton of the loss function below such that, for a **single** example `x` with ground truth `y`, it returns the $L_2$ loss of $h_w$ on `x`."
   ]
  },
  {
   "cell_type": "code",
   "execution_count": 47,
   "metadata": {},
   "outputs": [
    {
     "name": "stdout",
     "output_type": "stream",
     "text": [
      "Loss for first example:\n",
      "74.30439999999999\n"
     ]
    }
   ],
   "source": [
    "def loss(w, x, y):\n",
    "    return ((h(w,x) - y)**2)\n",
    "\n",
    "print(\"Loss for first example:\")\n",
    "print(loss(w,X[0],Y[0]))"
   ]
  },
  {
   "cell_type": "markdown",
   "metadata": {},
   "source": [
    "## Empirical loss\n",
    "\n",
    "Complete the function below to compute the empirical loss of $h_w$ on a **set** of examples $X$ with associated ground truths $Y$."
   ]
  },
  {
   "cell_type": "code",
   "execution_count": 82,
   "metadata": {},
   "outputs": [
    {
     "name": "stdout",
     "output_type": "stream",
     "text": [
      "232.11483440597257\n"
     ]
    }
   ],
   "source": [
    "def emp_loss(w, X, Y):\n",
    "    a = 0\n",
    "    for i in range(len(Y)):\n",
    "        a += loss(w,X[i],Y[i])\n",
    "    a = a/len(Y)\n",
    "    return a\n",
    "    \n",
    "print(emp_loss(w,X,Y))"
   ]
  },
  {
   "cell_type": "markdown",
   "metadata": {},
   "source": [
    "## Gradient update\n",
    "\n",
    "A gradient update is of the form: $w \\gets w + dw$\n",
    "\n",
    "- Complete the function below so that it computes the $dw$ term (the 'update') based on a set of examples `(X, Y)` the step (`alpha`)\n",
    "\n",
    "If you are not sure about the gradient computation, check out the [perceptron slides](https://moodle.insa-toulouse.fr/pluginfile.php/120391/mod_resource/content/1/cm1.pdf) on [Moodle](https://moodle.insa-toulouse.fr/course/view.php?id=1822) (in particular, slide 26). Make sure this computation is clear to you!"
   ]
  },
  {
   "cell_type": "code",
   "execution_count": 98,
   "metadata": {},
   "outputs": [],
   "source": [
    "def compute_update(w, X, Y, alpha):\n",
    "    for i in range(len(w)):\n",
    "        somme = 0\n",
    "        for j in range(len(Y)):\n",
    "            somme += (Y[j] - h(w,X[j]))*X[j][i]\n",
    "        w[i] = w[i] + (alpha * (somme))\n",
    "\n",
    "compute_update(w, X, Y, alpha = 10e-7)"
   ]
  },
  {
   "cell_type": "markdown",
   "metadata": {},
   "source": [
    "## Gradient descent\n",
    "\n",
    "Now implement the gradient descent algorithm that will:\n",
    "\n",
    "- repeatedly apply an update the weights \n",
    "- stops when a max number of iterations is reached (do not consider early stopping for now)\n",
    "- returns the final vector of weights"
   ]
  },
  {
   "cell_type": "code",
   "execution_count": 127,
   "metadata": {},
   "outputs": [],
   "source": [
    "def descent(w_init, X, Y, alpha, max_iter):\n",
    "    mod_affiche = 200\n",
    "    listeDeRetour = [0 for i in range(int(max_iter/mod_affiche))]\n",
    "    for i in range(max_iter):\n",
    "        compute_update(w_init, X, Y,alpha)\n",
    "        if (i%mod_affiche == 0):\n",
    "            listeDeRetour.append(emp_loss(w,X,Y))\n",
    "            print(emp_loss(w,X,Y))\n",
    "    return listeDeRetour\n",
    "        \n",
    "        \n"
   ]
  },
  {
   "cell_type": "markdown",
   "metadata": {},
   "source": [
    "## Exploitation\n",
    "\n",
    "You gradient descent is now complete and you can exploit it to train your perceptron.\n",
    "\n",
    "- Train your perceptron to get a model.\n",
    "- Visualize the evolution of the loss on the training set. Has it converged?\n",
    "- Try training for several choices of `alpha` and `max_iter`. What seem like a reasonable choice?\n",
    "    - alpha = 10e-7\n",
    "    - Max_iter = 800\n",
    "- What is the loss associated with the final model?\n",
    "- Is the final model the optimal one for a perceptron?\n"
   ]
  },
  {
   "cell_type": "code",
   "execution_count": null,
   "metadata": {},
   "outputs": [
    {
     "name": "stdout",
     "output_type": "stream",
     "text": [
      "231.89139974132914\n",
      "211.29677681741438\n",
      "195.5256492760826\n",
      "181.65350267640198\n",
      "169.44844803681508\n",
      "158.70906723704726\n",
      "149.25835720681607\n",
      "140.94073294807464\n",
      "133.61943528985148\n",
      "127.17425153302362\n",
      "121.49951181101396\n",
      "116.50232808723705\n",
      "112.10104645495723\n",
      "108.22388690908102\n",
      "104.80774788020713\n",
      "101.79715557110579\n",
      "99.14334055369166\n",
      "96.80342620971425\n",
      "94.73971546611222\n",
      "92.91906391743406\n",
      "91.31232887032255\n",
      "89.89388511288035\n",
      "88.64119932596198\n",
      "87.53445603267195\n",
      "86.55622884295067\n",
      "85.69119150647053\n",
      "84.9258639517704\n",
      "84.24838907373498\n",
      "83.6483365449352\n",
      "83.11653037754186\n",
      "82.6448973590781\n",
      "82.22633383376649\n",
      "81.85458860751152\n",
      "81.5241600237325\n",
      "81.23020549382099\n",
      "80.96846197390512\n",
      "80.73517606231529\n",
      "80.52704255273099\n",
      "80.34115041910697\n"
     ]
    }
   ],
   "source": [
    "from matplotlib import pyplot as plt\n",
    "w = [0 for i in range(7)]\n",
    "\n",
    "listeExamples = descent(w,X,Y,10e-5,10000)\n",
    "\n",
    "num_samples_to_plot = 100\n",
    "plt.plot(Y[0:num_samples_to_plot], 'ro', label='y')\n",
    "plt.plot(listeExamples)\n",
    "\n"
   ]
  },
  {
   "cell_type": "code",
   "execution_count": 113,
   "metadata": {},
   "outputs": [
    {
     "data": {
      "text/plain": [
       "Text(0, 0.5, 'f(examples)')"
      ]
     },
     "execution_count": 113,
     "metadata": {},
     "output_type": "execute_result"
    },
    {
     "data": {
      "image/png": "[encoded data removed]",
      "text/plain": [
       "<Figure size 432x288 with 1 Axes>"
      ]
     },
     "metadata": {
      "needs_background": "light"
     },
     "output_type": "display_data"
    }
   ],
   "source": [
    "# Code sample that can be used to visualize the difference between the ground truth and the prediction\n",
    "from matplotlib import pyplot as plt\n",
    "num_samples_to_plot = 40\n",
    "plt.plot(Y[0:num_samples_to_plot], 'ro', label='y')\n",
    "yw = [h(w,x) for x in X]\n",
    "plt.plot(yw[0:num_samples_to_plot], 'bx', label='$\\hat{y}$')\n",
    "plt.legend()\n",
    "plt.xlabel(\"Examples\")\n",
    "plt.ylabel(\"f(examples)\")\n",
    "\n"
   ]
  },
  {
   "cell_type": "markdown",
   "metadata": {},
   "source": [
    "\n",
    "\n",
    "\n",
    "\n",
    "# Going further\n",
    "\n",
    "The following are extensions of the work previously done. If attempting them **do not modify** the code you produced above so that it can be evaluated.\n",
    "\n",
    "### Improvements to gradient descent\n",
    "\n",
    "Consider improving the gradient descent with:\n",
    "\n",
    " - Stochastic Gradient Descent (SGD), which means selecting a subset of the examples for training\n",
    " - Detection of convergence to halt the algorithm before the maximum number of iterations\n",
    "\n",
    "\n",
    "### Data normalization\n",
    "\n",
    "Different input features can have different units, and very different ranges.\n",
    "Within the perceptron computation, these values will be summed together.\n",
    "While gradient descent is normally able to deal with this (by adapting the weights of the perceptron for each input feature), standardizing the input features usually eases the perceptron training, and can sometimes improve accuracy.\n",
    "\n",
    "\n",
    "\n",
    "\n",
    "```python\n",
    "from sklearn.preprocessing import StandardScaler\n",
    "sc = StandardScaler(copy=True) \n",
    "X_normalized = sc.fit_transform(X)\n",
    "```\n",
    "\n",
    "Try applying a standard normalization to the input features (make sure that you keep a feature column that is always equal to 1). Is the convergence faster ? Try to quantify this speed-up. What about accuracy ?"
   ]
  }
 ],
 "metadata": {
  "kernelspec": {
   "display_name": "Python 3 (ipykernel)",
   "language": "python",
   "name": "python3"
  },
  "language_info": {
   "codemirror_mode": {
    "name": "ipython",
    "version": 3
   },
   "file_extension": ".py",
   "mimetype": "text/x-python",
   "name": "python",
   "nbconvert_exporter": "python",
   "pygments_lexer": "ipython3",
   "version": "3.8.10"
  }
 },
 "nbformat": 4,
 "nbformat_minor": 4
}
