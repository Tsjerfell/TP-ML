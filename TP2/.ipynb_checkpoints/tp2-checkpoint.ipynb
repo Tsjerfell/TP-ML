{
 "cells": [
  {
   "cell_type": "markdown",
   "metadata": {},
   "source": [
    "## Objectives of the practical work\n",
    "\n",
    "The objective is to get hands on experience on the fundamental elements of neural networks:\n",
    " \n",
    " - perceptron architecture (linear regression)\n",
    " - loss function\n",
    " - empirical loss\n",
    " - gradient descent\n",
    "\n",
    "For this we will implement from scratch the data-structure and algorithms to train a perceptron. Note that slides related to the perceptron and neural networks in general are available on [moodle](https://moodle.insa-toulouse.fr/course/view.php?id=1822#section-2).\n",
    "\n",
    "## Dataset\n",
    "\n",
    "The objective of the regression is the prediction of the hydrodynamic performance of sailing yachts from dimensions and velocity.\n",
    "The **inputs** are linked to dimension and hydrodynamics characteristics:\n",
    "1. Longitudinal position of the center of buoyancy\n",
    "(*flottabilité*), adimensional.\n",
    "2. Prismatic coefficient, adimensional.\n",
    "3. Length-displacement ratio, adimensional.\n",
    "4. Beam -draught ratio (*tiran d’eau*), adimensional.\n",
    "5. Length-beam ratio, adimensional.\n",
    "6. Froude number, adimensional\n",
    "\n",
    "**Target value/predicted value (Output)** = Residuary resistance per unit weight of\n",
    "displacement, adimensional"
   ]
  },
  {
   "cell_type": "code",
   "execution_count": 1,
   "metadata": {},
   "outputs": [],
   "source": [
    "# Import some useful libraries and functions\n",
    "\n",
    "import numpy as np\n",
    "import pandas\n",
    "\n",
    "def print_stats(dataset):\n",
    "    \"\"\"Print statistics of a dataset\"\"\"\n",
    "    print(pandas.DataFrame(dataset).describe())\n"
   ]
  },
  {
   "cell_type": "code",
   "execution_count": 2,
   "metadata": {},
   "outputs": [
    {
     "name": "stdout",
     "output_type": "stream",
     "text": [
      "Dataset available\n"
     ]
    }
   ],
   "source": [
    "# Download the data set and place in the current folder (works on linux only)\n",
    "filename = 'yacht_hydrodynamics.data'\n",
    "\n",
    "import os.path\n",
    "import requests\n",
    "\n",
    "if not os.path.exists(filename):\n",
    "    print(\"Downloading dataset...\")\n",
    "    r = requests.get('https://arbimo.github.io/tp-supervised-learning/tp2/' + filename)\n",
    "    open(filename , 'wb').write(r.content)\n",
    "    \n",
    "print('Dataset available')                 "
   ]
  },
  {
   "cell_type": "markdown",
   "metadata": {},
   "source": [
    "### Explore the dataset\n",
    "\n",
    "- how many examples are there in the dataset?\n",
    "\n",
    "    308\n",
    "- how many features for each example?\n",
    "\n",
    "    6\n",
    "- what is the ground truth of the 10th example\n",
    "\n",
    "    1.83"
   ]
  },
  {
   "cell_type": "code",
   "execution_count": 3,
   "metadata": {},
   "outputs": [
    {
     "name": "stdout",
     "output_type": "stream",
     "text": [
      "f([-5.    0.6   4.78  4.24  3.15  0.35]) = 8.62\n",
      "f([-5.     0.565  4.77   3.99   3.15   0.15 ]) = 0.18\n",
      "f([-2.3    0.565  4.78   5.35   2.76   0.15 ]) = 0.29\n",
      "f([-5.     0.6    4.78   4.24   3.15   0.325]) = 6.2\n",
      "f([0.    0.53  4.78  3.75  3.15  0.175]) = 0.59\n"
     ]
    }
   ],
   "source": [
    "# loads the dataset and slip between inputs (X) and ground truth (Y)\n",
    "dataset = np.genfromtxt(\"yacht_hydrodynamics.data\", delimiter='')\n",
    "X = dataset[:, :-1] # examples features\n",
    "Y = dataset[:, -1]  # ground truth\n",
    "\n",
    "# Print the first 5 examples\n",
    "for i in range(0,5):\n",
    "    print(f\"f({X[i]}) = {Y[i]}\")"
   ]
  },
  {
   "cell_type": "markdown",
   "metadata": {},
   "source": [
    "The following command adds a column to the inputs.\n",
    "\n",
    "- what is the value added in this column?\n",
    "\n",
    " There is only 1 in the column added\n",
    " \n",
    " \n",
    "- why are we doing this?\n",
    "\n",
    "    It is necessary to calculate the perceptron"
   ]
  },
  {
   "cell_type": "code",
   "execution_count": 4,
   "metadata": {},
   "outputs": [
    {
     "name": "stdout",
     "output_type": "stream",
     "text": [
      "           0           1           2           3           4           5  \\\n",
      "count  308.0  308.000000  308.000000  308.000000  308.000000  308.000000   \n",
      "mean     1.0   -2.381818    0.564136    4.788636    3.936818    3.206818   \n",
      "std      0.0    1.513219    0.023290    0.253057    0.548193    0.247998   \n",
      "min      1.0   -5.000000    0.530000    4.340000    2.810000    2.730000   \n",
      "25%      1.0   -2.400000    0.546000    4.770000    3.750000    3.150000   \n",
      "50%      1.0   -2.300000    0.565000    4.780000    3.955000    3.150000   \n",
      "75%      1.0   -2.300000    0.574000    5.100000    4.170000    3.510000   \n",
      "max      1.0    0.000000    0.600000    5.140000    5.350000    3.640000   \n",
      "\n",
      "                6  \n",
      "count  308.000000  \n",
      "mean     0.287500  \n",
      "std      0.100942  \n",
      "min      0.125000  \n",
      "25%      0.200000  \n",
      "50%      0.287500  \n",
      "75%      0.375000  \n",
      "max      0.450000  \n",
      "[[ 1.    -5.     0.6   ...  4.24   3.15   0.35 ]\n",
      " [ 1.    -5.     0.565 ...  3.99   3.15   0.15 ]\n",
      " [ 1.    -2.3    0.565 ...  5.35   2.76   0.15 ]\n",
      " ...\n",
      " [ 1.    -2.3    0.53  ...  3.68   3.16   0.2  ]\n",
      " [ 1.    -5.     0.6   ...  4.24   3.15   0.275]\n",
      " [ 1.    -2.3    0.53  ...  3.69   3.51   0.35 ]]\n"
     ]
    }
   ],
   "source": [
    "X = np.insert(X, 0, np.ones((len(X))), axis= 1)\n",
    "print_stats(X)\n",
    "print(X)\n"
   ]
  },
  {
   "cell_type": "markdown",
   "metadata": {},
   "source": [
    "## Creating the perceptron\n",
    "\n",
    "![Perceptron for regression](https://arbimo.github.io/tp-supervised-learning/tp2/perceptron-regression.png)\n",
    "\n",
    "We now want to define a perceptron, that is, a function of the form: \n",
    "\n",
    "$h_w(x) = w_0 + w_1 \\times x_1 + \\dots + w_n \\times x_n$\n",
    "\n",
    "- Complete the code snippet below to:\n",
    "  - create the vector of weight `w`\n",
    "  - implement the `h` function that evaluate an example based on the vector of weights\n",
    "  - check if this works on a few examples"
   ]
  },
  {
   "cell_type": "code",
   "execution_count": 5,
   "metadata": {},
   "outputs": [
    {
     "name": "stdout",
     "output_type": "stream",
     "text": [
      "Estimated value for first example 0.0 \n",
      "Ground truth for first example 8.62 "
     ]
    }
   ],
   "source": [
    "w = [0 for i in range(7)]\n",
    "\n",
    "def h(w, x):\n",
    "    heuristique = 0\n",
    "    for i in range(len(x)):\n",
    "        heuristique += w[i]*x[i]\n",
    "    return (heuristique)\n",
    "\n",
    "print(\"Estimated value for first example\",h(w,X[0]),end = \" \")\n",
    "print()\n",
    "print(\"Ground truth for first example\",Y[0],end = \" \")\n",
    "\n",
    "# print the ground truth and the evaluation of h_w on the first example"
   ]
  },
  {
   "cell_type": "markdown",
   "metadata": {},
   "source": [
    "## Loss function\n",
    "\n",
    "Complete the definiton of the loss function below such that, for a **single** example `x` with ground truth `y`, it returns the $L_2$ loss of $h_w$ on `x`."
   ]
  },
  {
   "cell_type": "code",
   "execution_count": 6,
   "metadata": {},
   "outputs": [
    {
     "name": "stdout",
     "output_type": "stream",
     "text": [
      "Loss for first example:\n",
      "74.30439999999999\n"
     ]
    }
   ],
   "source": [
    "def loss(w, x, y):\n",
    "    return ((h(w,x) - y)**2)\n",
    "\n",
    "print(\"Loss for first example:\")\n",
    "print(loss(w,X[0],Y[0]))"
   ]
  },
  {
   "cell_type": "markdown",
   "metadata": {},
   "source": [
    "## Empirical loss\n",
    "\n",
    "Complete the function below to compute the empirical loss of $h_w$ on a **set** of examples $X$ with associated ground truths $Y$."
   ]
  },
  {
   "cell_type": "code",
   "execution_count": 7,
   "metadata": {},
   "outputs": [
    {
     "name": "stdout",
     "output_type": "stream",
     "text": [
      "339.2467464285712\n"
     ]
    }
   ],
   "source": [
    "def emp_loss(w, X, Y):\n",
    "    a = 0\n",
    "    for i in range(len(Y)):\n",
    "        a += loss(w,X[i],Y[i])\n",
    "    a = a/len(Y)\n",
    "    return a\n",
    "    \n",
    "print(emp_loss(w,X,Y))"
   ]
  },
  {
   "cell_type": "markdown",
   "metadata": {},
   "source": [
    "## Gradient update\n",
    "\n",
    "A gradient update is of the form: $w \\gets w + dw$\n",
    "\n",
    "- Complete the function below so that it computes the $dw$ term (the 'update') based on a set of examples `(X, Y)` the step (`alpha`)\n",
    "\n",
    "If you are not sure about the gradient computation, check out the [perceptron slides](https://moodle.insa-toulouse.fr/pluginfile.php/120391/mod_resource/content/1/cm1.pdf) on [Moodle](https://moodle.insa-toulouse.fr/course/view.php?id=1822) (in particular, slide 26). Make sure this computation is clear to you!"
   ]
  },
  {
   "cell_type": "code",
   "execution_count": 8,
   "metadata": {},
   "outputs": [],
   "source": [
    "def compute_update(w, X, Y, alpha):\n",
    "    for i in range(len(w)):\n",
    "        somme = 0\n",
    "        for j in range(len(Y)):\n",
    "            somme += (Y[j] - h(w,X[j]))*X[j][i]\n",
    "        w[i] = w[i] + (alpha * (somme))\n",
    "\n",
    "compute_update(w, X, Y, alpha = 10e-7)"
   ]
  },
  {
   "cell_type": "markdown",
   "metadata": {},
   "source": [
    "## Gradient descent\n",
    "\n",
    "Now implement the gradient descent algorithm that will:\n",
    "\n",
    "- repeatedly apply an update the weights \n",
    "- stops when a max number of iterations is reached (do not consider early stopping for now)\n",
    "- returns the final vector of weights"
   ]
  },
  {
   "cell_type": "code",
   "execution_count": 9,
   "metadata": {},
   "outputs": [],
   "source": [
    "def descent(w_init, X, Y, alpha, max_iter,mod_affiche): #mod_affiche pour pas retourner toutes les valeurs\n",
    "    listeDeRetour = []\n",
    "    for i in range(max_iter):\n",
    "        compute_update(w_init, X, Y,alpha)\n",
    "        if (i%mod_affiche == 0):\n",
    "            listeDeRetour.append(emp_loss(w,X,Y))\n",
    "            print(emp_loss(w,X,Y))\n",
    "    return listeDeRetour\n",
    "        \n",
    "        \n"
   ]
  },
  {
   "cell_type": "markdown",
   "metadata": {},
   "source": [
    "## Exploitation\n",
    "\n",
    "You gradient descent is now complete and you can exploit it to train your perceptron.\n",
    "\n",
    "- Train your perceptron to get a model.\n",
    "- Visualize the evolution of the loss on the training set. Has it converged?\n",
    "    As we can see on the graph, it has converged to the value 78.\n",
    "- Try training for several choices of `alpha` and `max_iter`. What seem like a reasonable choice?\n",
    "    \n",
    "    These values seem reasonable because the result converges and the execution is not so long.\n",
    "    - alpha = 10e-5\n",
    "    - Max_iter = 10 000\n",
    "    \n",
    "- What is the loss associated with the final model?\n",
    "    - 79.18124864058687\n",
    "- Is the final model the optimal one for a perceptron?\n"
   ]
  },
  {
   "cell_type": "code",
   "execution_count": 10,
   "metadata": {},
   "outputs": [
    {
     "name": "stdout",
     "output_type": "stream",
     "text": [
      "231.89139974132914\n",
      "219.9893841673471\n",
      "211.29677681741438\n",
      "203.15760193635933\n",
      "195.5256492760826\n",
      "188.36754925312027\n",
      "181.65350267640198\n",
      "175.35578876056698\n",
      "169.44844803681508\n",
      "163.90714578389796\n",
      "158.70906723704726\n",
      "153.83282242088094\n",
      "149.25835720681607\n",
      "144.96686989116034\n",
      "140.94073294807464\n",
      "137.16341965390157\n",
      "133.61943528985148\n",
      "130.29425264212\n",
      "127.17425153302362\n",
      "124.24666213207125\n",
      "121.49951181101396\n",
      "118.92157532144115\n",
      "116.50232808723705\n",
      "114.23190241715837\n",
      "112.10104645495723\n",
      "110.10108569588081\n",
      "108.22388690908102\n",
      "106.46182431550073\n",
      "104.80774788020713\n",
      "103.25495358696531\n",
      "101.79715557110579\n",
      "100.42845999449658\n",
      "99.14334055369166\n",
      "97.9366155191379\n",
      "96.80342620971425\n",
      "95.7392168128524\n",
      "94.73971546611222\n",
      "93.80091652133453\n",
      "92.91906391743406\n",
      "92.09063559251456\n",
      "91.31232887032255\n",
      "90.58104676012225\n",
      "89.89388511288035\n",
      "89.24812058022091\n",
      "88.64119932596198\n",
      "88.07072644317654\n",
      "87.53445603267195\n",
      "87.03028190153086\n",
      "86.55622884295067\n",
      "86.11044446103516\n",
      "85.69119150647053\n",
      "85.29684069114556\n",
      "84.9258639517704\n",
      "84.5768281344273\n",
      "84.24838907373498\n",
      "83.9392860419586\n",
      "83.6483365449352\n",
      "83.37443144313652\n",
      "83.11653037754186\n",
      "82.87365748126582\n",
      "82.6448973590781\n",
      "82.4293913180703\n",
      "82.22633383376649\n",
      "82.0349692369655\n",
      "81.85458860751152\n",
      "81.68452686206348\n",
      "81.5241600237325\n",
      "81.37290266222345\n",
      "81.23020549382099\n",
      "81.09555313123009\n",
      "80.96846197390512\n",
      "80.8484782300867\n",
      "80.73517606231529\n",
      "80.62815584870297\n",
      "80.52704255273099\n",
      "80.43148419479051\n",
      "80.34115041910697\n",
      "80.25573115008929\n",
      "80.17493533251523\n",
      "80.09848975031386\n",
      "80.02613791903468\n",
      "79.95763904739952\n",
      "79.89276706362\n",
      "79.83130970243526\n",
      "79.77306764907586\n",
      "79.71785373659759\n",
      "79.66549219325144\n",
      "79.61581793676437\n",
      "79.56867591259953\n",
      "79.52392047345127\n",
      "79.48141479739638\n",
      "79.44103034229047\n",
      "79.4026463341441\n",
      "79.36614928735679\n",
      "79.33143255482099\n",
      "79.29839590602964\n",
      "79.26694513143902\n",
      "79.2369916714494\n",
      "79.20845226846349\n",
      "79.18124864058687\n"
     ]
    },
    {
     "data": {
      "text/plain": [
       "[<matplotlib.lines.Line2D at 0x1df2774dd90>]"
      ]
     },
     "execution_count": 10,
     "metadata": {},
     "output_type": "execute_result"
    },
    {
     "data": {
      "image/png": "[encoded data removed]",
      "text/plain": [
       "<Figure size 432x288 with 1 Axes>"
      ]
     },
     "metadata": {
      "needs_background": "light"
     },
     "output_type": "display_data"
    }
   ],
   "source": [
    "from matplotlib import pyplot as plt\n",
    "w = [0 for i in range(7)]\n",
    "\n",
    "listeExamples = descent(w,X,Y,10e-5,10000,100)\n",
    "\n",
    "plt.plot(listeExamples)\n",
    "\n"
   ]
  },
  {
   "cell_type": "code",
   "execution_count": 12,
   "metadata": {},
   "outputs": [
    {
     "name": "stdout",
     "output_type": "stream",
     "text": [
      "[231.89139974132914, 219.9893841673471, 211.29677681741438, 203.15760193635933, 195.5256492760826, 188.36754925312027, 181.65350267640198, 175.35578876056698, 169.44844803681508, 163.90714578389796, 158.70906723704726, 153.83282242088094, 149.25835720681607, 144.96686989116034, 140.94073294807464, 137.16341965390157, 133.61943528985148, 130.29425264212, 127.17425153302362, 124.24666213207125, 121.49951181101396, 118.92157532144115, 116.50232808723705, 114.23190241715837, 112.10104645495723, 110.10108569588081, 108.22388690908102, 106.46182431550073, 104.80774788020713, 103.25495358696531, 101.79715557110579, 100.42845999449658, 99.14334055369166, 97.9366155191379, 96.80342620971425, 95.7392168128524, 94.73971546611222, 93.80091652133453, 92.91906391743406, 92.09063559251456, 91.31232887032255, 90.58104676012225, 89.89388511288035, 89.24812058022091, 88.64119932596198, 88.07072644317654, 87.53445603267195, 87.03028190153086, 86.55622884295067, 86.11044446103516, 85.69119150647053, 85.29684069114556, 84.9258639517704, 84.5768281344273, 84.24838907373498, 83.9392860419586, 83.6483365449352, 83.37443144313652, 83.11653037754186, 82.87365748126582, 82.6448973590781, 82.4293913180703, 82.22633383376649, 82.0349692369655, 81.85458860751152, 81.68452686206348, 81.5241600237325, 81.37290266222345, 81.23020549382099, 81.09555313123009, 80.96846197390512, 80.8484782300867, 80.73517606231529, 80.62815584870297, 80.52704255273099, 80.43148419479051, 80.34115041910697, 80.25573115008929, 80.17493533251523, 80.09848975031386, 80.02613791903468, 79.95763904739952, 79.89276706362, 79.83130970243526, 79.77306764907586, 79.71785373659759, 79.66549219325144, 79.61581793676437, 79.56867591259953, 79.52392047345127, 79.48141479739638, 79.44103034229047, 79.4026463341441, 79.36614928735679, 79.33143255482099, 79.29839590602964, 79.26694513143902, 79.2369916714494, 79.20845226846349, 79.18124864058687]\n"
     ]
    }
   ],
   "source": [
    "print(listeExamples)"
   ]
  },
  {
   "cell_type": "code",
   "execution_count": 47,
   "metadata": {
    "scrolled": true
   },
   "outputs": [
    {
     "data": {
      "text/plain": [
       "Text(0, 0.5, 'f(examples)')"
      ]
     },
     "execution_count": 47,
     "metadata": {},
     "output_type": "execute_result"
    },
    {
     "data": {
      "image/png": "[encoded data removed]",
      "text/plain": [
       "<Figure size 432x288 with 1 Axes>"
      ]
     },
     "metadata": {
      "needs_background": "light"
     },
     "output_type": "display_data"
    }
   ],
   "source": [
    "# Code sample that can be used to visualize the difference between the ground truth and the prediction\n",
    "from matplotlib import pyplot as plt\n",
    "num_samples_to_plot = 40\n",
    "plt.plot(Y[0:num_samples_to_plot], 'ro', label='y')\n",
    "yw = [h(w,x) for x in X]\n",
    "plt.plot(yw[0:num_samples_to_plot], 'bx', label='$\\hat{y}$')\n",
    "plt.legend()\n",
    "plt.xlabel(\"Examples\")\n",
    "plt.ylabel(\"f(examples)\")\n",
    "\n"
   ]
  },
  {
   "cell_type": "markdown",
   "metadata": {},
   "source": [
    "\n",
    "\n",
    "\n",
    "\n",
    "# Going further\n",
    "\n",
    "The following are extensions of the work previously done. If attempting them **do not modify** the code you produced above so that it can be evaluated.\n",
    "\n",
    "### Improvements to gradient descent\n",
    "\n",
    "Consider improving the gradient descent with:\n",
    "\n",
    " - Stochastic Gradient Descent (SGD), which means selecting a subset of the examples for training\n",
    " - Detection of convergence to halt the algorithm before the maximum number of iterations\n",
    "\n",
    "\n",
    "### Data normalization\n",
    "\n",
    "Different input features can have different units, and very different ranges.\n",
    "Within the perceptron computation, these values will be summed together.\n",
    "While gradient descent is normally able to deal with this (by adapting the weights of the perceptron for each input feature), standardizing the input features usually eases the perceptron training, and can sometimes improve accuracy.\n",
    "\n",
    "\n",
    "\n",
    "\n",
    "```python\n",
    "from sklearn.preprocessing import StandardScaler\n",
    "sc = StandardScaler(copy=True) \n",
    "X_normalized = sc.fit_transform(X)\n",
    "```\n",
    "\n",
    "Try applying a standard normalization to the input features (make sure that you keep a feature column that is always equal to 1). Is the convergence faster ? Try to quantify this speed-up. What about accuracy ?"
   ]
  },
  {
   "cell_type": "code",
   "execution_count": 11,
   "metadata": {},
   "outputs": [],
   "source": [
    "def descent_upgraded(w_init, X, Y, alpha, max_iter,mod_affiche,delta_halt): #mod_affiche pour pas retourner toutes les valeurs\n",
    "    listeDeRetour = []\n",
    "    last_value = 100000\n",
    "    i = 0\n",
    "    stop = False\n",
    "    while ( not(stop) and i < max_iter):\n",
    "        \n",
    "        compute_update(w_init, X, Y,alpha)\n",
    "        \n",
    "        if (i%mod_affiche == 0):\n",
    "            listeDeRetour.append(emp_loss(w,X,Y))\n",
    "            print(emp_loss(w,X,Y))\n",
    "            if (abs(emp_loss(w,X,Y) - last_value) < delta_halt):\n",
    "                stop = True\n",
    "            last_value = emp_loss(w,X,Y)\n",
    "            \n",
    "        i+=1\n",
    "    return listeDeRetour"
   ]
  },
  {
   "cell_type": "code",
   "execution_count": 51,
   "metadata": {},
   "outputs": [
    {
     "name": "stdout",
     "output_type": "stream",
     "text": [
      "228.67073384941122\n",
      "217.72184045351062\n",
      "209.17194078347202\n",
      "201.17409215641422\n",
      "193.67548762366417\n",
      "186.64231847133885\n",
      "180.0451967421579\n",
      "173.8568970709651\n",
      "168.0519355127724\n",
      "162.60642264298508\n",
      "157.49796020167705\n",
      "152.7055481615513\n",
      "148.20949770805524\n",
      "143.99134947418767\n",
      "140.03379677786717\n",
      "136.3206136092535\n",
      "132.83658709980207\n",
      "129.56745420509228\n",
      "126.49984234299703\n",
      "123.6212137419088\n",
      "120.91981326785393\n",
      "118.38461951329444\n",
      "116.00529894379686\n",
      "113.77216291141713\n",
      "111.67612735557127\n",
      "109.70867502335597\n",
      "107.8618200517872\n",
      "106.12807476427074\n",
      "104.50041854285575\n",
      "102.97226864647875\n",
      "101.53745285351744\n",
      "100.19018381458979\n",
      "98.92503500865855\n",
      "97.73691820219375\n",
      "96.62106231741231\n",
      "95.57299362148923\n",
      "94.58851715414652\n",
      "93.66369931619037\n",
      "92.79485154640507\n",
      "91.97851501875708\n",
      "91.21144629611305\n",
      "90.49060388066708\n",
      "89.81313560501097\n",
      "89.17636681128705\n",
      "88.57778926915196\n",
      "88.01505078635661\n",
      "87.4859454686396\n",
      "86.98840458833779\n",
      "86.52048802365607\n",
      "86.08037623291827\n",
      "85.66636273035157\n",
      "85.2768470320498\n",
      "84.9103280427198\n",
      "84.56539785565323\n",
      "84.24073594009089\n",
      "83.93510369176123\n",
      "83.64733932388663\n",
      "83.376353077376\n",
      "83.12112273024653\n",
      "82.88068938757178\n",
      "82.6541535344176\n",
      "82.44067133532643\n",
      "82.23945116493779\n",
      "82.0497503552979\n",
      "81.87087214631156\n",
      "81.70216282663972\n",
      "81.54300905313802\n",
      "81.3928353376765\n",
      "81.2511016908789\n",
      "81.1173014129737\n",
      "80.99095902256117\n",
      "80.87162831467838\n",
      "80.7588905400796\n",
      "80.65235269815871\n",
      "80.55164593640826\n",
      "80.45642404976103\n",
      "80.36636207357053\n",
      "80.28115496437823\n",
      "80.2005163629838\n",
      "80.12417743467473\n",
      "80.05188578179354\n",
      "79.98340442412463\n",
      "79.91851084286199\n",
      "79.8569960841862\n",
      "79.79866391872687\n",
      "79.7433300534186\n",
      "79.69082139247932\n",
      "79.64097534444004\n"
     ]
    },
    {
     "data": {
      "text/plain": [
       "[<matplotlib.lines.Line2D at 0x1c22ce69370>]"
      ]
     },
     "execution_count": 51,
     "metadata": {},
     "output_type": "execute_result"
    },
    {
     "data": {
      "image/png": "[encoded data removed]",
      "text/plain": [
       "<Figure size 432x288 with 1 Axes>"
      ]
     },
     "metadata": {
      "needs_background": "light"
     },
     "output_type": "display_data"
    }
   ],
   "source": [
    "w = [1 for i in range(7)]\n",
    "\n",
    "listeExamples = descent_upgraded(w,X,Y,10e-5,20000,100,0.05)\n",
    "\n",
    "plt.plot(listeExamples)"
   ]
  }
 ],
 "metadata": {
  "kernelspec": {
   "display_name": "Python 3 (ipykernel)",
   "language": "python",
   "name": "python3"
  },
  "language_info": {
   "codemirror_mode": {
    "name": "ipython",
    "version": 3
   },
   "file_extension": ".py",
   "mimetype": "text/x-python",
   "name": "python",
   "nbconvert_exporter": "python",
   "pygments_lexer": "ipython3",
   "version": "3.8.2"
  }
 },
 "nbformat": 4,
 "nbformat_minor": 4
}
